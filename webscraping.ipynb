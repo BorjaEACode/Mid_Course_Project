{
 "cells": [
  {
   "cell_type": "markdown",
   "id": "5dde6dee",
   "metadata": {},
   "source": [
    "# Ahora voy a realizar un webscrapping para conseguir datos sobre el covid en España por comunidades autónomas, casos, fallecidos, población y vacunados."
   ]
  },
  {
   "cell_type": "code",
   "execution_count": null,
   "id": "e16a25b6",
   "metadata": {},
   "outputs": [],
   "source": [
    "import requests"
   ]
  }
 ],
 "metadata": {
  "kernelspec": {
   "display_name": "Python 3 (ipykernel)",
   "language": "python",
   "name": "python3"
  },
  "language_info": {
   "codemirror_mode": {
    "name": "ipython",
    "version": 3
   },
   "file_extension": ".py",
   "mimetype": "text/x-python",
   "name": "python",
   "nbconvert_exporter": "python",
   "pygments_lexer": "ipython3",
   "version": "3.9.7"
  }
 },
 "nbformat": 4,
 "nbformat_minor": 5
}
